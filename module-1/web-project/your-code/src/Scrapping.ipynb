{
 "cells": [
  {
   "cell_type": "code",
   "execution_count": 2,
   "metadata": {},
   "outputs": [],
   "source": [
    "import json\n",
    "\n",
    "import requests\n",
    "\n",
    "from Weather_API import get_city_weather, get_city_weather_forecast"
   ]
  },
  {
   "cell_type": "code",
   "execution_count": 2,
   "metadata": {},
   "outputs": [
    {
     "data": {
      "text/plain": [
       "{'name': 'Pisa',\n",
       " 'weather': 'Sunny',\n",
       " 'icon': '//cdn.apixu.com/weather/64x64/day/113.png',\n",
       " 'temperature': 33.0}"
      ]
     },
     "execution_count": 2,
     "metadata": {},
     "output_type": "execute_result"
    }
   ],
   "source": [
    "get_city_weather('PISA')"
   ]
  },
  {
   "cell_type": "raw",
   "metadata": {},
   "source": [
    "get_city_weather('Paris')"
   ]
  },
  {
   "cell_type": "code",
   "execution_count": null,
   "metadata": {},
   "outputs": [],
   "source": [
    "get_city_weather('Paris')"
   ]
  },
  {
   "cell_type": "code",
   "execution_count": 4,
   "metadata": {},
   "outputs": [
    {
     "data": {
      "text/plain": [
       "[{'date': '2019-06-26',\n",
       "  'maxtemp_c': 34.6,\n",
       "  'mintemp_c': 22.9,\n",
       "  'wind_mph': 12.8,\n",
       "  'condition': 'Partly cloudy',\n",
       "  'clothes': ['A short-sleeved shirt made of a technical fabric is ideal and will help wick sweat from your skin for maximum comfort.',\n",
       "   \"A nice pair of shorts is crucial for most temperatures and conditions. A built-in liner to reduce chafing and keep you comfortable is helpful. And something made from a technical fabric or nylon will be light and comfortable. Stay away from cotton here if you can! And it wouldn't hurt to ensure they have some reflective areas!\",\n",
       "   \"It's always a good idea to be prepared for possible trouble. Keep some ID on you in case the worst happens. Throw your license or business card in your back pocket, or better yet -- use something like a RoadID that can also contain additional vital information if you're in trouble.\"]},\n",
       " {'date': '2019-06-26',\n",
       "  'maxtemp_c': 34.6,\n",
       "  'mintemp_c': 22.9,\n",
       "  'wind_mph': 12.8,\n",
       "  'condition': 'Partly cloudy',\n",
       "  'clothes': ['A short-sleeved shirt made of a technical fabric is ideal and will help wick sweat from your skin for maximum comfort.',\n",
       "   \"A nice pair of shorts is crucial for most temperatures and conditions. A built-in liner to reduce chafing and keep you comfortable is helpful. And something made from a technical fabric or nylon will be light and comfortable. Stay away from cotton here if you can! And it wouldn't hurt to ensure they have some reflective areas!\",\n",
       "   \"It's always a good idea to be prepared for possible trouble. Keep some ID on you in case the worst happens. Throw your license or business card in your back pocket, or better yet -- use something like a RoadID that can also contain additional vital information if you're in trouble.\"]},\n",
       " {'date': '2019-06-26',\n",
       "  'maxtemp_c': 34.6,\n",
       "  'mintemp_c': 22.9,\n",
       "  'wind_mph': 12.8,\n",
       "  'condition': 'Partly cloudy',\n",
       "  'clothes': ['A short-sleeved shirt made of a technical fabric is ideal and will help wick sweat from your skin for maximum comfort.',\n",
       "   \"A nice pair of shorts is crucial for most temperatures and conditions. A built-in liner to reduce chafing and keep you comfortable is helpful. And something made from a technical fabric or nylon will be light and comfortable. Stay away from cotton here if you can! And it wouldn't hurt to ensure they have some reflective areas!\",\n",
       "   \"It's always a good idea to be prepared for possible trouble. Keep some ID on you in case the worst happens. Throw your license or business card in your back pocket, or better yet -- use something like a RoadID that can also contain additional vital information if you're in trouble.\"]},\n",
       " {'date': '2019-06-26',\n",
       "  'maxtemp_c': 34.6,\n",
       "  'mintemp_c': 22.9,\n",
       "  'wind_mph': 12.8,\n",
       "  'condition': 'Partly cloudy',\n",
       "  'clothes': ['A short-sleeved shirt made of a technical fabric is ideal and will help wick sweat from your skin for maximum comfort.',\n",
       "   \"A nice pair of shorts is crucial for most temperatures and conditions. A built-in liner to reduce chafing and keep you comfortable is helpful. And something made from a technical fabric or nylon will be light and comfortable. Stay away from cotton here if you can! And it wouldn't hurt to ensure they have some reflective areas!\",\n",
       "   \"It's always a good idea to be prepared for possible trouble. Keep some ID on you in case the worst happens. Throw your license or business card in your back pocket, or better yet -- use something like a RoadID that can also contain additional vital information if you're in trouble.\"]}]"
      ]
     },
     "execution_count": 4,
     "metadata": {},
     "output_type": "execute_result"
    }
   ],
   "source": [
    "get_city_weather_forecast('San Sebastian', 4)"
   ]
  },
  {
   "cell_type": "code",
   "execution_count": null,
   "metadata": {},
   "outputs": [],
   "source": [
    "get_city_weather_forecast('Milano', 2)"
   ]
  },
  {
   "cell_type": "code",
   "execution_count": null,
   "metadata": {
    "scrolled": true
   },
   "outputs": [],
   "source": [
    "clothes_list = get_clothes(5,5)"
   ]
  },
  {
   "cell_type": "code",
   "execution_count": null,
   "metadata": {},
   "outputs": [],
   "source": [
    "\n"
   ]
  },
  {
   "cell_type": "code",
   "execution_count": null,
   "metadata": {},
   "outputs": [],
   "source": []
  }
 ],
 "metadata": {
  "kernelspec": {
   "display_name": "Python 3",
   "language": "python",
   "name": "python3"
  },
  "language_info": {
   "codemirror_mode": {
    "name": "ipython",
    "version": 3
   },
   "file_extension": ".py",
   "mimetype": "text/x-python",
   "name": "python",
   "nbconvert_exporter": "python",
   "pygments_lexer": "ipython3",
   "version": "3.7.3"
  }
 },
 "nbformat": 4,
 "nbformat_minor": 2
}
